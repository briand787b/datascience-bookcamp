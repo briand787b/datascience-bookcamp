{
 "cells": [
  {
   "cell_type": "code",
   "execution_count": 1,
   "id": "012290b2-0d9e-4e2f-9e02-630d4828864e",
   "metadata": {},
   "outputs": [],
   "source": [
    "# section 1.1"
   ]
  },
  {
   "cell_type": "code",
   "execution_count": 2,
   "id": "e4d08eca-6ee1-4ca8-9374-2e2add6299f2",
   "metadata": {
    "tags": []
   },
   "outputs": [
    {
     "name": "stdout",
     "output_type": "stream",
     "text": [
      "Sample Space: The set of all possible outcomes an action could produce\n"
     ]
    }
   ],
   "source": [
    "# sample_space \n",
    "print('Sample Space: The set of all possible outcomes an action could produce')\n",
    "sample_space = {'Heads', 'Tails'}"
   ]
  },
  {
   "cell_type": "code",
   "execution_count": 3,
   "id": "93f4865f-33ec-4557-88fa-f42c5ff11a63",
   "metadata": {
    "tags": []
   },
   "outputs": [
    {
     "name": "stdout",
     "output_type": "stream",
     "text": [
      "Frequency: The probability of an outcome\n"
     ]
    }
   ],
   "source": [
    "# probability\n",
    "print('Frequency: The probability of an outcome')\n",
    "single_element_event_probability = 1 / len(sample_space)"
   ]
  },
  {
   "cell_type": "code",
   "execution_count": 4,
   "id": "98296d40-f232-488f-a63f-364c59d0d47c",
   "metadata": {
    "tags": []
   },
   "outputs": [
    {
     "name": "stdout",
     "output_type": "stream",
     "text": [
      "Event Condition: A Boolean function that, given a sample_space element, returns true only when the element satisfies the condition_constraints\n",
      "\n",
      "Event: The subset of elements in sample_space that satisfy an event_condition\n"
     ]
    }
   ],
   "source": [
    "# event\n",
    "print('Event Condition: A Boolean function that, given a sample_space element, returns true only when the element satisfies the condition_constraints\\n')\n",
    "print('Event: The subset of elements in sample_space that satisfy an event_condition')\n",
    "\n",
    "def is_heads_or_tails(outcome): return outcome in {'Heads', 'Tails'}\n",
    "def is_neither(outcome): return not is_heads_or_tails(outcome)\n",
    "def is_heads(outcome): return outcome == 'Heads'\n",
    "def is_tails(outcome): return outcome == 'Tails'\n",
    "\n",
    "def get_matching_event(event_cond, sample_space):\n",
    "    return set([outcome for outcome in sample_space if event_cond(outcome)])"
   ]
  },
  {
   "cell_type": "code",
   "execution_count": 5,
   "id": "f0449c12-c26e-4d10-9691-60ac43ac9f6d",
   "metadata": {
    "tags": []
   },
   "outputs": [
    {
     "name": "stdout",
     "output_type": "stream",
     "text": [
      "event for is_heads is {'Heads'}\n",
      "event for is_tails is {'Tails'}\n",
      "event for is_heads_or_tails is {'Heads', 'Tails'}\n",
      "event for is_neither is set()\n"
     ]
    }
   ],
   "source": [
    "# print out \n",
    "event_conditions = [is_heads, is_tails, is_heads_or_tails, is_neither]\n",
    "\n",
    "for econd in event_conditions:\n",
    "    name = econd.__name__\n",
    "    print(f'event for {name} is {get_matching_event(econd, sample_space)}')"
   ]
  },
  {
   "cell_type": "code",
   "execution_count": 6,
   "id": "d1deaba1-2da7-49ae-936d-4310e15b9093",
   "metadata": {
    "tags": []
   },
   "outputs": [
    {
     "name": "stdout",
     "output_type": "stream",
     "text": [
      "probability of is_heads event is 0.5\n",
      "probability of is_tails event is 0.5\n",
      "probability of is_heads_or_tails event is 1.0\n",
      "probability of is_neither event is 0.0\n"
     ]
    }
   ],
   "source": [
    "# probability\n",
    "def compute_probability(event_condition, generic_sample_space):\n",
    "    event = get_matching_event(event_condition, generic_sample_space)\n",
    "    return len(event) / len(generic_sample_space)\n",
    "    \n",
    "for ec in event_conditions:\n",
    "    probability = compute_probability(ec, sample_space)\n",
    "    name = ec.__name__\n",
    "    print(f'probability of {name} event is {probability}')"
   ]
  },
  {
   "cell_type": "code",
   "execution_count": 7,
   "id": "8f51a599-0522-47e2-8a85-856bac3b88fd",
   "metadata": {
    "tags": []
   },
   "outputs": [
    {
     "name": "stdout",
     "output_type": "stream",
     "text": [
      "\"Sample Space Size\" NEW definition: The sum of all outcome weights\n"
     ]
    }
   ],
   "source": [
    "# weighted sample_space\n",
    "weighted_sample_space = {'Heads': 4, 'Tails': 1}\n",
    "sample_space_size = sum(weighted_sample_space.values())\n",
    "assert sample_space_size == 5\n",
    "print('\"Sample Space Size\" NEW definition: The sum of all outcome weights')"
   ]
  },
  {
   "cell_type": "code",
   "execution_count": 8,
   "id": "f5ea093f-1c5b-4631-befa-ca52a858b72b",
   "metadata": {
    "tags": []
   },
   "outputs": [
    {
     "name": "stdout",
     "output_type": "stream",
     "text": [
      "\"Event Size\" NEW definition: The sum of all outcome weights\n",
      "event size: 5\n"
     ]
    }
   ],
   "source": [
    "# proof\n",
    "event = get_matching_event(is_heads_or_tails, weighted_sample_space)\n",
    "event_size = sum([weighted_sample_space[outcome] for outcome in event])\n",
    "print('\"Event Size\" NEW definition: The sum of all outcome weights')\n",
    "print(f'event size: {event_size}')"
   ]
  },
  {
   "cell_type": "code",
   "execution_count": 9,
   "id": "59ba5d64-a961-43ac-94e7-b3f844bb856a",
   "metadata": {
    "tags": []
   },
   "outputs": [
    {
     "name": "stdout",
     "output_type": "stream",
     "text": [
      "probability of is_heads is 0.8\n",
      "probability of is_tails is 0.2\n",
      "probability of is_heads_or_tails is 1.0\n",
      "probability of is_neither is 0.0\n"
     ]
    }
   ],
   "source": [
    "# probability for weighted sample_space event\n",
    "def compute_event_probability(event_condition, generic_sample_space):\n",
    "    event = set([outcome for outcome in generic_sample_space if event_condition(outcome)])\n",
    "    if type(generic_sample_space) == type(set()):\n",
    "        return len(event) / len(generic_sample_space)\n",
    "    \n",
    "    event_wt = sum([generic_sample_space[outcome] for outcome in event])\n",
    "    return event_wt / sum(generic_sample_space.values())\n",
    "\n",
    "for event_cond in event_conditions:\n",
    "    prob = compute_event_probability(event_cond, weighted_sample_space)\n",
    "    name = event_cond.__name__\n",
    "    print(f'probability of {name} is {prob}')"
   ]
  },
  {
   "cell_type": "code",
   "execution_count": 10,
   "id": "e4a1ca9b-2db2-4051-8225-85bd7ead1986",
   "metadata": {},
   "outputs": [],
   "source": [
    "# section 1.2"
   ]
  },
  {
   "cell_type": "code",
   "execution_count": 11,
   "id": "211aaf2c-0508-4c7f-99c9-61422c826eaf",
   "metadata": {
    "tags": []
   },
   "outputs": [
    {
     "name": "stdout",
     "output_type": "stream",
     "text": [
      "Premise:\n",
      "Suppose a family has four children. What is the probability that exactly two of the children\n",
      "are boys? We’ll assume that each child is equally likely to be either a boy or a girl. Thus\n",
      "we can construct an unweighted sample space where each outcome represents one possible \n",
      "sequence of four children, as shown in figure 1.2.\n",
      "\n",
      "Probability of two boys: 0.375\n"
     ]
    }
   ],
   "source": [
    "# family of four children\n",
    "from itertools import product\n",
    "\n",
    "print('''Premise:\n",
    "Suppose a family has four children. What is the probability that exactly two of the children\n",
    "are boys? We’ll assume that each child is equally likely to be either a boy or a girl. Thus\n",
    "we can construct an unweighted sample space where each outcome represents one possible \n",
    "sequence of four children, as shown in figure 1.2.\n",
    "''')\n",
    "\n",
    "def sample_space():\n",
    "    possible_children = ['Boy', 'Girl']\n",
    "    return set(product(possible_children, repeat=4))\n",
    "\n",
    "def has_two_boys(outcome): return len([gender for gender in outcome if gender == 'Boy']) == 2\n",
    "\n",
    "print(f'Probability of two boys: {compute_event_probability(has_two_boys, sample_space())}')"
   ]
  },
  {
   "cell_type": "code",
   "execution_count": 12,
   "id": "8879f7a6-22ab-4240-a611-d7d3805b5ed3",
   "metadata": {
    "tags": []
   },
   "outputs": [
    {
     "name": "stdout",
     "output_type": "stream",
     "text": [
      "probability of six die rolls summing to 21: 0.09284979423868313\n"
     ]
    }
   ],
   "source": [
    "# die rolls (fair)\n",
    "from itertools import product\n",
    "\n",
    "def sample_space():\n",
    "    DIE_FACES = list(range(1, 7))\n",
    "    return set(product(DIE_FACES, repeat=6))\n",
    "\n",
    "def has_sum_of_21(outcome): return sum(outcome) == 21\n",
    "\n",
    "prob_21 = compute_event_probability(has_sum_of_21, sample_space())\n",
    "print(f'probability of six die rolls summing to 21: {prob_21}')\n",
    "\n",
    "# using lambdas\n",
    "prob_21_lambda = compute_event_probability(lambda x: sum(x) == 21, sample_space())\n",
    "assert prob_21 == prob_21_lambda"
   ]
  },
  {
   "cell_type": "code",
   "execution_count": 13,
   "id": "abbe55c2-dd19-49e1-982d-dceee4b428b4",
   "metadata": {
    "tags": []
   },
   "outputs": [
    {
     "data": {
      "text/plain": [
       "defaultdict(int,\n",
       "            {21: 4332,\n",
       "             22: 4221,\n",
       "             27: 1666,\n",
       "             12: 456,\n",
       "             24: 3431,\n",
       "             19: 3906,\n",
       "             18: 3431,\n",
       "             20: 4221,\n",
       "             23: 3906,\n",
       "             26: 2247,\n",
       "             28: 1161,\n",
       "             15: 1666,\n",
       "             17: 2856,\n",
       "             13: 756,\n",
       "             14: 1161,\n",
       "             30: 456,\n",
       "             16: 2247,\n",
       "             25: 2856,\n",
       "             9: 56,\n",
       "             32: 126,\n",
       "             31: 252,\n",
       "             29: 756,\n",
       "             11: 252,\n",
       "             33: 56,\n",
       "             10: 126,\n",
       "             7: 6,\n",
       "             35: 6,\n",
       "             8: 21,\n",
       "             34: 21,\n",
       "             6: 1,\n",
       "             36: 1})"
      ]
     },
     "execution_count": 13,
     "metadata": {},
     "output_type": "execute_result"
    }
   ],
   "source": [
    "# die roll sums\n",
    "from collections import defaultdict\n",
    "weighted_sample_space = defaultdict(int)\n",
    "for outcome in sample_space():\n",
    "    total = sum(outcome)\n",
    "    weighted_sample_space[total] += 1\n",
    "    \n",
    "weighted_sample_space"
   ]
  },
  {
   "cell_type": "code",
   "execution_count": 22,
   "id": "f8036e2b-b473-4231-ba3a-0708c2cfb62f",
   "metadata": {},
   "outputs": [],
   "source": [
    "# link between weighted and unweighted sample spaces\n",
    "event_21 = get_matching_event(lambda x: sum(x) == 21, sample_space())\n",
    "assert len(event_21) == weighted_sample_space[21]\n",
    "assert sum(weighted_sample_space.values()) == len(sample_space())"
   ]
  },
  {
   "cell_type": "code",
   "execution_count": null,
   "id": "66d9a5f2-9b79-4b3c-81e2-995e3f2a2c81",
   "metadata": {},
   "outputs": [],
   "source": []
  }
 ],
 "metadata": {
  "kernelspec": {
   "display_name": "Python 3 (ipykernel)",
   "language": "python",
   "name": "python3"
  },
  "language_info": {
   "codemirror_mode": {
    "name": "ipython",
    "version": 3
   },
   "file_extension": ".py",
   "mimetype": "text/x-python",
   "name": "python",
   "nbconvert_exporter": "python",
   "pygments_lexer": "ipython3",
   "version": "3.11.0"
  }
 },
 "nbformat": 4,
 "nbformat_minor": 5
}
